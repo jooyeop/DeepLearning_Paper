{
 "cells": [
  {
   "cell_type": "code",
   "execution_count": 4,
   "metadata": {},
   "outputs": [],
   "source": [
    "import torch\n",
    "import torch.nn as nn\n",
    "import torch.optim as optim\n",
    "from torch.utils.data import Dataset, DataLoader\n",
    "from torchvision import transforms, models\n",
    "from PIL import Image\n",
    "import os\n",
    "import xml.etree.ElementTree as ET\n",
    "import numpy as np\n",
    "import matplotlib.pyplot as plt\n",
    "import cv2\n",
    "\n",
    "# 이미지 전처리를 위한 transform 설정\n",
    "transform = transforms.Compose([\n",
    "    transforms.Resize((224, 224)),\n",
    "    transforms.CenterCrop(224),\n",
    "    transforms.ToTensor(),\n",
    "    transforms.Normalize(mean=[0.485, 0.456, 0.406], std=[0.229, 0.224, 0.225]),\n",
    "])"
   ]
  },
  {
   "cell_type": "code",
   "execution_count": 6,
   "metadata": {},
   "outputs": [],
   "source": [
    "# CustomDataset 클래스 정의\n",
    "class CustomDataset(Dataset):\n",
    "    def __init__(self, img_dir, annotations_dir, transform=None):\n",
    "        self.img_dir = img_dir\n",
    "        self.annotations_dir = annotations_dir\n",
    "        self.transform = transform\n",
    "        self.img_names = [x for x in os.listdir(img_dir) if x.endswith('.jpg')]\n",
    "        self.class_to_idx = {'apple': 0, 'banana': 1, 'orange': 2} # 예시, 실제 클래스에 맞게 수정 필요\n",
    "        self.classes = list(self.class_to_idx.keys())\n",
    "\n",
    "\n",
    "    def __len__(self):\n",
    "        return len(self.img_names)\n",
    "\n",
    "    def __getitem__(self, idx):\n",
    "        img_path = os.path.join(self.img_dir, self.img_names[idx])\n",
    "        annotation_path = os.path.join(self.annotations_dir, self.img_names[idx].replace('.jpg', '.xml'))\n",
    "        image = Image.open(img_path).convert('RGB')\n",
    "        label = self.extract_label(annotation_path)\n",
    "        if self.transform:\n",
    "            image = self.transform(image)\n",
    "        return image, label\n",
    "\n",
    "    def extract_label(self, annotation_path):\n",
    "        tree = ET.parse(annotation_path)\n",
    "        root = tree.getroot()\n",
    "        label = root.find('object').find('name').text\n",
    "        return self.class_to_idx[label]\n",
    "\n",
    "# 데이터셋 및 데이터 로더 인스턴스화\n",
    "train_dataset = CustomDataset('../../dataset/train_zip/train/', '../../dataset/train_zip/train/', transform=transform)\n",
    "test_dataset = CustomDataset('../../dataset/test_zip/test/', '../../dataset/test_zip/test/', transform=transform)\n",
    "train_loader = DataLoader(train_dataset, batch_size=64, shuffle=True)\n",
    "test_loader = DataLoader(test_dataset, batch_size=64)"
   ]
  },
  {
   "cell_type": "code",
   "execution_count": 10,
   "metadata": {},
   "outputs": [
    {
     "name": "stdout",
     "output_type": "stream",
     "text": [
      "이미지를 읽어오지 못했습니다. 경로를 확인하세요: ../../데이터셋/train_zip/train/apple_1.jpg\n"
     ]
    }
   ],
   "source": [
    "cv2.setUseOptimized(True) # cv2.resize() 최적화 사용\n",
    "selective_search = cv2.ximgproc.segmentation.createSelectiveSearchSegmentation() # Selective Search 객체 생성\n",
    "\n",
    "image_path = '../../dataset/train_zip/train/apple_1.jpg'\n",
    "image = cv2.imread(image_path) # 이미지 읽기\n",
    "\n",
    "if image is None:\n",
    "    print(f\"이미지를 읽어오지 못했습니다. 경로를 확인하세요: {image_path}\")\n",
    "else:\n",
    "    selective_search.setBaseImage(image) # 이미지 설정\n",
    "    selective_search.switchToSelectiveSearchFast() # Selective Search 알고리즘 적용\n",
    "    rects = selective_search.process() # 검출된 bounding box 정보\n",
    "    out = image.copy()\n",
    "    for i, rect in enumerate(rects):\n",
    "        x, y, w, h = rect\n",
    "        cv2.rectangle(out, (x, y), (x+w, y+h), (0, 255, 0), 1)\n",
    "\n",
    "    plt.imshow(cv2.cvtColor(out, cv2.COLOR_BGR2RGB))\n",
    "    plt.show()\n"
   ]
  }
 ],
 "metadata": {
  "kernelspec": {
   "display_name": "base_jyp",
   "language": "python",
   "name": "python3"
  },
  "language_info": {
   "codemirror_mode": {
    "name": "ipython",
    "version": 3
   },
   "file_extension": ".py",
   "mimetype": "text/x-python",
   "name": "python",
   "nbconvert_exporter": "python",
   "pygments_lexer": "ipython3",
   "version": "3.11.9"
  }
 },
 "nbformat": 4,
 "nbformat_minor": 2
}
